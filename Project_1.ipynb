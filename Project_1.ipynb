{
 "cells": [
  {
   "cell_type": "code",
   "execution_count": 8,
   "id": "f07cd5f5",
   "metadata": {},
   "outputs": [],
   "source": [
    "#import csv, and libraries\n",
    "\n",
    "import os\n",
    "import csv\n",
    "\n",
    "csvpath = os.path.join('project-1','csv_files','Red_Light_camera_Violations.csv')\n",
    "\n"
   ]
  },
  {
   "cell_type": "code",
   "execution_count": 10,
   "id": "e38c4d4f",
   "metadata": {},
   "outputs": [
    {
     "ename": "FileNotFoundError",
     "evalue": "[Errno 2] No such file or directory: 'project-1/csv_files/Red_Light_camera_Violations.csv'",
     "output_type": "error",
     "traceback": [
      "\u001b[0;31m---------------------------------------------------------------------------\u001b[0m",
      "\u001b[0;31mFileNotFoundError\u001b[0m                         Traceback (most recent call last)",
      "\u001b[0;32m/var/folders/r1/w1303vn5085bcrsmp_83wz2r0000gn/T/ipykernel_50881/2033270020.py\u001b[0m in \u001b[0;36m<module>\u001b[0;34m\u001b[0m\n\u001b[0;32m----> 1\u001b[0;31m \u001b[0;32mwith\u001b[0m \u001b[0mopen\u001b[0m\u001b[0;34m(\u001b[0m\u001b[0mcsvpath\u001b[0m\u001b[0;34m)\u001b[0m \u001b[0;32mas\u001b[0m \u001b[0mcsvfile\u001b[0m\u001b[0;34m:\u001b[0m\u001b[0;34m\u001b[0m\u001b[0;34m\u001b[0m\u001b[0m\n\u001b[0m\u001b[1;32m      2\u001b[0m         \u001b[0mcsvreader\u001b[0m \u001b[0;34m=\u001b[0m \u001b[0mcsv\u001b[0m\u001b[0;34m.\u001b[0m\u001b[0mreader\u001b[0m\u001b[0;34m(\u001b[0m\u001b[0mcsvfile\u001b[0m\u001b[0;34m,\u001b[0m \u001b[0mdelimiter\u001b[0m \u001b[0;34m=\u001b[0m \u001b[0;34m','\u001b[0m\u001b[0;34m)\u001b[0m\u001b[0;34m\u001b[0m\u001b[0;34m\u001b[0m\u001b[0m\n\u001b[1;32m      3\u001b[0m         \u001b[0mprint\u001b[0m\u001b[0;34m(\u001b[0m\u001b[0mcsvreader\u001b[0m\u001b[0;34m)\u001b[0m\u001b[0;34m\u001b[0m\u001b[0;34m\u001b[0m\u001b[0m\n",
      "\u001b[0;31mFileNotFoundError\u001b[0m: [Errno 2] No such file or directory: 'project-1/csv_files/Red_Light_camera_Violations.csv'"
     ]
    }
   ],
   "source": [
    "with open(csvpath) as csvfile:\n",
    "        csvreader = csv.reader(csvfile, delimiter = ',')\n",
    "        print(csvreader)"
   ]
  },
  {
   "cell_type": "code",
   "execution_count": null,
   "id": "697a706d",
   "metadata": {},
   "outputs": [],
   "source": [
    "#merge csvs\n",
    "\n",
    "#create dataframe"
   ]
  },
  {
   "cell_type": "code",
   "execution_count": null,
   "id": "3cd08cd1",
   "metadata": {},
   "outputs": [],
   "source": [
    "#count of like locations of fatalities"
   ]
  },
  {
   "cell_type": "code",
   "execution_count": null,
   "id": "94837e18",
   "metadata": {},
   "outputs": [],
   "source": [
    "#find unique camera ID"
   ]
  },
  {
   "cell_type": "code",
   "execution_count": null,
   "id": "d632051a",
   "metadata": {},
   "outputs": [],
   "source": [
    "#count incidents of each camera ID\n"
   ]
  },
  {
   "cell_type": "code",
   "execution_count": null,
   "id": "008376de",
   "metadata": {},
   "outputs": [],
   "source": [
    "#create map of red light locations"
   ]
  },
  {
   "cell_type": "code",
   "execution_count": null,
   "id": "ec604440",
   "metadata": {},
   "outputs": [],
   "source": [
    "#create map of locations of fatalities"
   ]
  },
  {
   "cell_type": "code",
   "execution_count": null,
   "id": "4e8d3b3c",
   "metadata": {},
   "outputs": [],
   "source": []
  },
  {
   "cell_type": "code",
   "execution_count": null,
   "id": "f514b41e",
   "metadata": {},
   "outputs": [],
   "source": []
  },
  {
   "cell_type": "code",
   "execution_count": null,
   "id": "63410877",
   "metadata": {},
   "outputs": [],
   "source": []
  },
  {
   "cell_type": "code",
   "execution_count": null,
   "id": "8a8b42bd",
   "metadata": {},
   "outputs": [],
   "source": []
  }
 ],
 "metadata": {
  "kernelspec": {
   "display_name": "Python 3 (ipykernel)",
   "language": "python",
   "name": "python3"
  },
  "language_info": {
   "codemirror_mode": {
    "name": "ipython",
    "version": 3
   },
   "file_extension": ".py",
   "mimetype": "text/x-python",
   "name": "python",
   "nbconvert_exporter": "python",
   "pygments_lexer": "ipython3",
   "version": "3.9.13"
  }
 },
 "nbformat": 4,
 "nbformat_minor": 5
}
